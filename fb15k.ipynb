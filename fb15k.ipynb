{
 "cells": [
  {
   "cell_type": "code",
   "execution_count": 1,
   "metadata": {},
   "outputs": [
    {
     "name": "stderr",
     "output_type": "stream",
     "text": [
      "c:\\Users\\Shantam Saxena\\AppData\\Local\\Programs\\Python\\Python38\\lib\\site-packages\\requests\\__init__.py:102: RequestsDependencyWarning: urllib3 (1.26.8) or chardet (5.0.0)/charset_normalizer (2.0.10) doesn't match a supported version!\n",
      "  warnings.warn(\"urllib3 ({}) or chardet ({})/charset_normalizer ({}) doesn't match a supported \"\n"
     ]
    }
   ],
   "source": [
    "from stellargraph import datasets, utils\n",
    "from tensorflow.keras import callbacks, optimizers, losses, metrics, regularizers, Model\n",
    "import numpy as np\n",
    "import pandas as pd\n",
    "\n",
    "from stellargraph.mapper import KGTripleGenerator\n",
    "from stellargraph.layer import DistMult\n",
    "\n",
    "from IPython.display import HTML"
   ]
  },
  {
   "cell_type": "code",
   "execution_count": 2,
   "metadata": {},
   "outputs": [],
   "source": [
    "fb15k = datasets.FB15k()\n",
    "\n",
    "fb15k_graph, fb15k_train, fb15k_test, fb15k_valid = fb15k.load()"
   ]
  },
  {
   "cell_type": "code",
   "execution_count": 3,
   "metadata": {},
   "outputs": [
    {
     "data": {
      "text/html": [
       "<div>\n",
       "<style scoped>\n",
       "    .dataframe tbody tr th:only-of-type {\n",
       "        vertical-align: middle;\n",
       "    }\n",
       "\n",
       "    .dataframe tbody tr th {\n",
       "        vertical-align: top;\n",
       "    }\n",
       "\n",
       "    .dataframe thead th {\n",
       "        text-align: right;\n",
       "    }\n",
       "</style>\n",
       "<table border=\"1\" class=\"dataframe\">\n",
       "  <thead>\n",
       "    <tr style=\"text-align: right;\">\n",
       "      <th></th>\n",
       "      <th>source</th>\n",
       "      <th>label</th>\n",
       "      <th>target</th>\n",
       "    </tr>\n",
       "  </thead>\n",
       "  <tbody>\n",
       "    <tr>\n",
       "      <th>15864</th>\n",
       "      <td>/m/0frmb1</td>\n",
       "      <td>/people/person/employment_history./business/em...</td>\n",
       "      <td>/m/0gsg7</td>\n",
       "    </tr>\n",
       "    <tr>\n",
       "      <th>28108</th>\n",
       "      <td>/m/0frmb1</td>\n",
       "      <td>/people/person/employment_history./business/em...</td>\n",
       "      <td>/m/09d5h</td>\n",
       "    </tr>\n",
       "    <tr>\n",
       "      <th>33681</th>\n",
       "      <td>/m/0frmb1</td>\n",
       "      <td>/people/person/education./education/education/...</td>\n",
       "      <td>/m/0bkj86</td>\n",
       "    </tr>\n",
       "    <tr>\n",
       "      <th>101635</th>\n",
       "      <td>/m/0frmb1</td>\n",
       "      <td>/people/person/employment_history./business/em...</td>\n",
       "      <td>/m/05l71</td>\n",
       "    </tr>\n",
       "    <tr>\n",
       "      <th>132806</th>\n",
       "      <td>/m/0frmb1</td>\n",
       "      <td>/people/person/education./education/education/...</td>\n",
       "      <td>/m/027ybp</td>\n",
       "    </tr>\n",
       "    <tr>\n",
       "      <th>138100</th>\n",
       "      <td>/m/0frmb1</td>\n",
       "      <td>/tv/tv_personality/tv_regular_appearances./tv/...</td>\n",
       "      <td>/m/05ll37</td>\n",
       "    </tr>\n",
       "    <tr>\n",
       "      <th>158848</th>\n",
       "      <td>/m/0frmb1</td>\n",
       "      <td>/people/person/education./education/education/...</td>\n",
       "      <td>/m/02h4rq6</td>\n",
       "    </tr>\n",
       "    <tr>\n",
       "      <th>193209</th>\n",
       "      <td>/m/0frmb1</td>\n",
       "      <td>/american_football/football_player/former_team...</td>\n",
       "      <td>/m/0fbq2n</td>\n",
       "    </tr>\n",
       "    <tr>\n",
       "      <th>213048</th>\n",
       "      <td>/m/0frmb1</td>\n",
       "      <td>/people/person/employment_history./business/em...</td>\n",
       "      <td>/m/01q0kg</td>\n",
       "    </tr>\n",
       "    <tr>\n",
       "      <th>235205</th>\n",
       "      <td>/m/0frmb1</td>\n",
       "      <td>/american_football/football_player/former_team...</td>\n",
       "      <td>/m/05tg3</td>\n",
       "    </tr>\n",
       "    <tr>\n",
       "      <th>251088</th>\n",
       "      <td>/m/0frmb1</td>\n",
       "      <td>/american_football/football_coach/coaching_his...</td>\n",
       "      <td>/m/05l71</td>\n",
       "    </tr>\n",
       "    <tr>\n",
       "      <th>269654</th>\n",
       "      <td>/m/0frmb1</td>\n",
       "      <td>/sports/pro_athlete/teams./american_football/f...</td>\n",
       "      <td>/m/05tg3</td>\n",
       "    </tr>\n",
       "    <tr>\n",
       "      <th>276440</th>\n",
       "      <td>/m/0frmb1</td>\n",
       "      <td>/sports/pro_athlete/teams./sports/sports_team_...</td>\n",
       "      <td>/m/05tg3</td>\n",
       "    </tr>\n",
       "    <tr>\n",
       "      <th>370550</th>\n",
       "      <td>/m/0frmb1</td>\n",
       "      <td>/people/person/nationality</td>\n",
       "      <td>/m/09c7w0</td>\n",
       "    </tr>\n",
       "    <tr>\n",
       "      <th>417941</th>\n",
       "      <td>/m/0frmb1</td>\n",
       "      <td>/american_football/football_player/former_team...</td>\n",
       "      <td>/m/0fbq2n</td>\n",
       "    </tr>\n",
       "    <tr>\n",
       "      <th>423099</th>\n",
       "      <td>/m/0frmb1</td>\n",
       "      <td>/sports/pro_athlete/teams./sports/sports_team_...</td>\n",
       "      <td>/m/0fbq2n</td>\n",
       "    </tr>\n",
       "    <tr>\n",
       "      <th>425335</th>\n",
       "      <td>/m/0frmb1</td>\n",
       "      <td>/sports/drafted_athlete/drafted./sports/sports...</td>\n",
       "      <td>/m/05tg3</td>\n",
       "    </tr>\n",
       "    <tr>\n",
       "      <th>435858</th>\n",
       "      <td>/m/0frmb1</td>\n",
       "      <td>/people/person/spouse_s./people/marriage/type_...</td>\n",
       "      <td>/m/04ztj</td>\n",
       "    </tr>\n",
       "    <tr>\n",
       "      <th>437939</th>\n",
       "      <td>/m/0frmb1</td>\n",
       "      <td>/award/hall_of_fame_inductee/hall_of_fame_indu...</td>\n",
       "      <td>/m/01nzmp</td>\n",
       "    </tr>\n",
       "    <tr>\n",
       "      <th>467390</th>\n",
       "      <td>/m/0frmb1</td>\n",
       "      <td>/american_football/football_coach/coaching_his...</td>\n",
       "      <td>/m/02md_2</td>\n",
       "    </tr>\n",
       "    <tr>\n",
       "      <th>474955</th>\n",
       "      <td>/m/0frmb1</td>\n",
       "      <td>/sports/pro_athlete/teams./american_football/f...</td>\n",
       "      <td>/m/0fbq2n</td>\n",
       "    </tr>\n",
       "  </tbody>\n",
       "</table>\n",
       "</div>"
      ],
      "text/plain": [
       "           source                                              label  \\\n",
       "15864   /m/0frmb1  /people/person/employment_history./business/em...   \n",
       "28108   /m/0frmb1  /people/person/employment_history./business/em...   \n",
       "33681   /m/0frmb1  /people/person/education./education/education/...   \n",
       "101635  /m/0frmb1  /people/person/employment_history./business/em...   \n",
       "132806  /m/0frmb1  /people/person/education./education/education/...   \n",
       "138100  /m/0frmb1  /tv/tv_personality/tv_regular_appearances./tv/...   \n",
       "158848  /m/0frmb1  /people/person/education./education/education/...   \n",
       "193209  /m/0frmb1  /american_football/football_player/former_team...   \n",
       "213048  /m/0frmb1  /people/person/employment_history./business/em...   \n",
       "235205  /m/0frmb1  /american_football/football_player/former_team...   \n",
       "251088  /m/0frmb1  /american_football/football_coach/coaching_his...   \n",
       "269654  /m/0frmb1  /sports/pro_athlete/teams./american_football/f...   \n",
       "276440  /m/0frmb1  /sports/pro_athlete/teams./sports/sports_team_...   \n",
       "370550  /m/0frmb1                         /people/person/nationality   \n",
       "417941  /m/0frmb1  /american_football/football_player/former_team...   \n",
       "423099  /m/0frmb1  /sports/pro_athlete/teams./sports/sports_team_...   \n",
       "425335  /m/0frmb1  /sports/drafted_athlete/drafted./sports/sports...   \n",
       "435858  /m/0frmb1  /people/person/spouse_s./people/marriage/type_...   \n",
       "437939  /m/0frmb1  /award/hall_of_fame_inductee/hall_of_fame_indu...   \n",
       "467390  /m/0frmb1  /american_football/football_coach/coaching_his...   \n",
       "474955  /m/0frmb1  /sports/pro_athlete/teams./american_football/f...   \n",
       "\n",
       "            target  \n",
       "15864     /m/0gsg7  \n",
       "28108     /m/09d5h  \n",
       "33681    /m/0bkj86  \n",
       "101635    /m/05l71  \n",
       "132806   /m/027ybp  \n",
       "138100   /m/05ll37  \n",
       "158848  /m/02h4rq6  \n",
       "193209   /m/0fbq2n  \n",
       "213048   /m/01q0kg  \n",
       "235205    /m/05tg3  \n",
       "251088    /m/05l71  \n",
       "269654    /m/05tg3  \n",
       "276440    /m/05tg3  \n",
       "370550   /m/09c7w0  \n",
       "417941   /m/0fbq2n  \n",
       "423099   /m/0fbq2n  \n",
       "425335    /m/05tg3  \n",
       "435858    /m/04ztj  \n",
       "437939   /m/01nzmp  \n",
       "467390   /m/02md_2  \n",
       "474955   /m/0fbq2n  "
      ]
     },
     "execution_count": 3,
     "metadata": {},
     "output_type": "execute_result"
    }
   ],
   "source": [
    "fb15k_train[fb15k_train['source'] == '/m/0frmb1' ]"
   ]
  },
  {
   "cell_type": "code",
   "execution_count": null,
   "metadata": {},
   "outputs": [],
   "source": [
    "fb15k_graph.create_graph_schema()"
   ]
  },
  {
   "cell_type": "code",
   "execution_count": 7,
   "metadata": {},
   "outputs": [],
   "source": [
    "\n",
    "epochs = 100\n",
    "embedding_dimension = 100\n",
    "negative_samples = 2"
   ]
  },
  {
   "cell_type": "code",
   "execution_count": 8,
   "metadata": {},
   "outputs": [
    {
     "name": "stderr",
     "output_type": "stream",
     "text": [
      "c:\\Users\\Shantam Saxena\\AppData\\Local\\Programs\\Python\\Python38\\lib\\site-packages\\keras\\optimizers\\optimizer_v2\\adam.py:110: UserWarning: The `lr` argument is deprecated, use `learning_rate` instead.\n",
      "  super(Adam, self).__init__(name, **kwargs)\n"
     ]
    }
   ],
   "source": [
    "fb15k_gen = KGTripleGenerator(\n",
    "    fb15k_graph, batch_size=len(fb15k_train) // 10  # ~100 batches per epoch\n",
    ")\n",
    "\n",
    "fb15k_distmult = DistMult(\n",
    "    fb15k_gen,\n",
    "    embedding_dimension=embedding_dimension,\n",
    "    embeddings_regularizer=regularizers.l2(1e-8),\n",
    ")\n",
    "\n",
    "fb15k_inp, fb15k_out = fb15k_distmult.in_out_tensors()\n",
    "\n",
    "fb15k_model = Model(inputs=fb15k_inp, outputs=fb15k_out)\n",
    "fb15k_model.compile(\n",
    "    optimizer=optimizers.Adam(lr=0.001),\n",
    "    loss=losses.BinaryCrossentropy(from_logits=True),\n",
    "    metrics=[metrics.BinaryAccuracy(threshold=0.0)],\n",
    ")"
   ]
  },
  {
   "cell_type": "code",
   "execution_count": 9,
   "metadata": {},
   "outputs": [
    {
     "name": "stdout",
     "output_type": "stream",
     "text": [
      "Model: \"model\"\n",
      "__________________________________________________________________________________________________\n",
      " Layer (type)                   Output Shape         Param #     Connected to                     \n",
      "==================================================================================================\n",
      " input_1 (InputLayer)           [(None, 1)]          0           []                               \n",
      "                                                                                                  \n",
      " input_2 (InputLayer)           [(None, 1)]          0           []                               \n",
      "                                                                                                  \n",
      " input_3 (InputLayer)           [(None, 1)]          0           []                               \n",
      "                                                                                                  \n",
      " embedding (Embedding)          (None, 1, 100)       1495100     ['input_1[0][0]',                \n",
      "                                                                  'input_3[0][0]']                \n",
      "                                                                                                  \n",
      " embedding_1 (Embedding)        (None, 1, 100)       134500      ['input_2[0][0]']                \n",
      "                                                                                                  \n",
      " dist_mult_score (DistMultScore  (None, 1)           0           ['embedding[0][0]',              \n",
      " )                                                                'embedding_1[0][0]',            \n",
      "                                                                  'embedding[1][0]']              \n",
      "                                                                                                  \n",
      "==================================================================================================\n",
      "Total params: 1,629,600\n",
      "Trainable params: 1,629,600\n",
      "Non-trainable params: 0\n",
      "__________________________________________________________________________________________________\n"
     ]
    }
   ],
   "source": [
    "fb15k_model.summary()"
   ]
  },
  {
   "cell_type": "code",
   "execution_count": 10,
   "metadata": {},
   "outputs": [],
   "source": [
    "\n",
    "fb15k_train_gen = fb15k_gen.flow(\n",
    "    fb15k_train, negative_samples=negative_samples, shuffle=True\n",
    ")\n",
    "fb15k_valid_gen = fb15k_gen.flow(fb15k_valid, negative_samples=negative_samples)"
   ]
  },
  {
   "cell_type": "code",
   "execution_count": 11,
   "metadata": {},
   "outputs": [],
   "source": [
    "fb15k_es = callbacks.EarlyStopping(monitor=\"val_loss\", patience=50)\n",
    "fb15k_history = fb15k_model.fit(\n",
    "    fb15k_train_gen,\n",
    "    validation_data=fb15k_valid_gen,\n",
    "    epochs=epochs,\n",
    "    callbacks=[fb15k_es],\n",
    "    verbose=0,\n",
    ")"
   ]
  },
  {
   "cell_type": "code",
   "execution_count": null,
   "metadata": {},
   "outputs": [],
   "source": []
  }
 ],
 "metadata": {
  "kernelspec": {
   "display_name": "Python 3.8.10 64-bit",
   "language": "python",
   "name": "python3"
  },
  "language_info": {
   "codemirror_mode": {
    "name": "ipython",
    "version": 3
   },
   "file_extension": ".py",
   "mimetype": "text/x-python",
   "name": "python",
   "nbconvert_exporter": "python",
   "pygments_lexer": "ipython3",
   "version": "3.8.10"
  },
  "orig_nbformat": 4,
  "vscode": {
   "interpreter": {
    "hash": "3763444e5c16ac6f1341b0a5e2a36855516c824e7b653b41ffeb04af71ff81f8"
   }
  }
 },
 "nbformat": 4,
 "nbformat_minor": 2
}
